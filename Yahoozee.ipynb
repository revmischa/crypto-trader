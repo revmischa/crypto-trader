{
 "cells": [
  {
   "cell_type": "markdown",
   "id": "937f4914-3ed8-47be-a5c2-fc02444d8a23",
   "metadata": {
    "tags": []
   },
   "source": [
    "### Dependencies\n",
    "This assumes you have `pandas`, `numpy`, `jupyterlab`, `plotly`, and `pandas-ta` available in your system or virtual environment. \n",
    "You also need `ta-lib`, on macOS you can get it with `brew install ta-lib`"
   ]
  },
  {
   "cell_type": "markdown",
   "id": "beb99880-a7e6-4679-81d9-7df57e650716",
   "metadata": {},
   "source": [
    "### Configuration\n",
    "Create a file called `.env` with:\n",
    "```env\n",
    "EXCHG_API_KEY=d019f019ca0918c0ac80\n",
    "EXCHG_SECRET=ba19ca9310de910\n",
    "```"
   ]
  },
  {
   "cell_type": "code",
   "execution_count": null,
   "id": "9037fdbc",
   "metadata": {},
   "outputs": [
    {
     "name": "stdout",
     "output_type": "stream",
     "text": [
      "\u001b[33mWARNING: You are using pip version 21.2.3; however, version 21.2.4 is available.\n",
      "You should consider upgrading via the '/Users/cyber/Library/Caches/pypoetry/virtualenvs/trader-cictOTB5-py3.9/bin/python -m pip install --upgrade pip' command.\u001b[0m\n",
      "Collecting git+https://github.com/revmischa/pyjuque@patch-1\n",
      "  Cloning https://github.com/revmischa/pyjuque (to revision patch-1) to /private/var/folders/kd/1xqhjdy16c31k9ffswc8wbm40000gn/T/pip-req-build-d2irbiku\n",
      "  Running command git clone -q https://github.com/revmischa/pyjuque /private/var/folders/kd/1xqhjdy16c31k9ffswc8wbm40000gn/T/pip-req-build-d2irbiku\n",
      "  Running command git checkout -b patch-1 --track origin/patch-1\n",
      "  Switched to a new branch 'patch-1'\n",
      "  Branch 'patch-1' set up to track remote branch 'patch-1' from 'origin'.\n",
      "  Resolved https://github.com/revmischa/pyjuque to commit 22c1641a62f34917bd917e64c5b4aeca4722a7ce\n",
      "\u001b[33mWARNING: You are using pip version 21.2.3; however, version 21.2.4 is available.\n",
      "You should consider upgrading via the '/Users/cyber/Library/Caches/pypoetry/virtualenvs/trader-cictOTB5-py3.9/bin/python -m pip install --upgrade pip' command.\u001b[0m\n"
     ]
    }
   ],
   "source": [
    "import sys\n",
    "# install dependencies\n",
    "!{sys.executable} -m pip install -q hyperopt matplotlib ipywidgets plotly\n",
    "!{sys.executable} -m pip install --no-deps git+https://github.com/revmischa/pyjuque@patch-1"
   ]
  },
  {
   "cell_type": "code",
   "execution_count": 171,
   "id": "5dd4be9c",
   "metadata": {
    "tags": []
   },
   "outputs": [],
   "source": [
    "import time\n",
    "import os\n",
    "from pprint import pprint\n",
    "import logging\n",
    "import cProfile\n",
    "from typing import Dict\n",
    "import datetime\n",
    "import math\n",
    "from IPython.display import HTML\n",
    "from copy import deepcopy\n",
    "from dotenv import load_dotenv\n",
    "\n",
    "import numpy as np\n",
    "import pandas as pd\n",
    "import pandas_ta as ta\n",
    "from hyperopt import hp, tpe, fmin, STATUS_OK,STATUS_FAIL, Trials\n",
    "import matplotlib.pyplot as plt\n",
    "import plotly\n",
    "\n",
    "from pyjuque.Bot import defineBot\n",
    "from pyjuque.Plotting import PlotData, GetPlotData\n",
    "from pyjuque.Exchanges.CcxtExchange import CcxtExchange\n",
    "from pyjuque.Engine.BacktesterSundayTheQuant import Backtester\n",
    "from pyjuque.Strategies import StrategyTemplate\n",
    "\n",
    "# how many cores we have\n",
    "workers = os.cpu_count()\n",
    "os.environ['NUMEXPR_MAX_THREADS'] = str(workers)\n",
    "\n",
    "%matplotlib inline\n",
    "PROFILING = False\n",
    "\n",
    "# shut up\n",
    "tpe_logger = logging.getLogger('hyperopt.tpe')\n",
    "tpe_logger.setLevel(logging.WARNING)\n",
    "\n",
    "# connect to your exchange\n",
    "exchange = CcxtExchange(\"ftx\")"
   ]
  },
  {
   "cell_type": "code",
   "execution_count": 136,
   "id": "5d63c97b",
   "metadata": {},
   "outputs": [],
   "source": [
    "timeframe = '1m'  # 1 minute timeframe\n",
    "starting_balance = 100.  # of currency we're trading\n",
    "\n",
    "# configure your exchange here via .env file\n",
    "load_dotenv()\n",
    "api_key = os.environ[\"EXCHG_API_KEY\"]\n",
    "secret = os.environ[\"EXCHG_SECRET\"]\n",
    "exchange_config = {\n",
    "    \"exchange\": {\n",
    "        \"name\": \"ftx\",\n",
    "        \"params\": {\n",
    "            \"api_key\": api_key,\n",
    "            \"secret\": secret,\n",
    "        },\n",
    "    },\n",
    "}\n",
    "\n",
    "def gen_config(\n",
    "    StratClass,\n",
    "    params: Dict[str, float],\n",
    "    test_run=True,\n",
    "    signal_distance: float = 0.3,\n",
    "    take_profit: float = 4,\n",
    "    stop_loss_value: float = 6,\n",
    "    initial_entry_allocation: float = 33,\n",
    ") -> dict:\n",
    "    return {\n",
    "        \"name\": \"simulator\",\n",
    "        \"test_run\": test_run,\n",
    "        **exchange_config,\n",
    "        \"symbols\": [\n",
    "            \"ETH/USD\",\n",
    "        ],\n",
    "        \"starting_balance\": starting_balance,\n",
    "        \"strategy\": {\"class\": StratClass, \"params\": params},\n",
    "        \"timeframe\": timeframe,\n",
    "        \"entry_settings\": {\n",
    "            \"initial_entry_allocation\": initial_entry_allocation,\n",
    "            \"signal_distance\": signal_distance,  # pct under buy signal to place order\n",
    "            \"leverage\": 1,\n",
    "        },\n",
    "        \"exit_settings\": {\n",
    "            \"take_profit\": take_profit,\n",
    "            \"stop_loss_value\": stop_loss_value,\n",
    "            \"exit_on_signal\": True,\n",
    "            \"sell_on_end\": True,\n",
    "        },\n",
    "    }\n"
   ]
  },
  {
   "cell_type": "code",
   "execution_count": 137,
   "id": "39823939",
   "metadata": {},
   "outputs": [],
   "source": [
    "# utilities\n",
    "symbol_df_cache: Dict[str, pd.DataFrame] = {}\n",
    "\n",
    "# how far units of timeframe (min) to test back in time\n",
    "backtest_times = 60 * 24\n",
    "\n",
    "def backtest(bot_config: dict) -> Backtester:\n",
    "    bt = Backtester(bot_config)\n",
    "    results = {}\n",
    "    for symbol in bot_config[\"symbols\"]:\n",
    "        # fetch historical exchange data (OHLCV) for symbol\n",
    "        # backtesting will be performed on this dataset\n",
    "        if not symbol in symbol_df_cache:\n",
    "            symbol_df_cache[symbol] = exchange.getOHLCV(symbol, bot_config['timeframe'], backtest_times)\n",
    "        df = symbol_df_cache[symbol]\n",
    "\n",
    "        # backtest\n",
    "        bt.backtest(df)\n",
    "        results[symbol] = dict(results=bt.return_results(), entries=bt.entries, exits=bt.exits, df=df)\n",
    "        \n",
    "    return results\n",
    "\n",
    "def plot_backtest_results(title, df, entries, exits):\n",
    "    return PlotData(df, \n",
    "        plot_indicators=[\n",
    "            dict(name = 'slow_ma', title = 'Slow HMA'),\n",
    "            dict(name = 'fast_ma', title = 'Fast HMA'),\n",
    "        ],\n",
    "        signals=[\n",
    "            dict(name = 'Buy', points = entries), \n",
    "            dict(name = 'Sell', points = exits),\n",
    "        ], \n",
    "        add_volume=False,\n",
    "        plot_title=title,\n",
    "    )"
   ]
  },
  {
   "cell_type": "code",
   "execution_count": 138,
   "id": "310f1f24",
   "metadata": {},
   "outputs": [],
   "source": [
    "# strategy to run\n",
    "class EMACross(StrategyTemplate):\n",
    "    \"\"\"Bollinger Bands x RSI\"\"\"\n",
    "\n",
    "    minimum_period = 100\n",
    "\n",
    "    def __init__(self, fast_ma_len=10, slow_ma_len=50):\n",
    "        self.fast_ma_len = fast_ma_len\n",
    "        self.slow_ma_len = slow_ma_len\n",
    "        # the minimum number of candles needed to compute our indicators\n",
    "        self.minimum_period = max(100, slow_ma_len)\n",
    "\n",
    "    # the bot will call this function with the latest data from the exchange\n",
    "    # passed through df; this function computes all the indicators needed\n",
    "    # for the signal\n",
    "    def setUp(self, df):\n",
    "        df[\"slow_ma\"] = ta.ema(df[\"close\"], self.slow_ma_len)\n",
    "        df[\"fast_ma\"] = ta.ema(df[\"close\"], self.fast_ma_len)\n",
    "        self.dataframe = df\n",
    "\n",
    "    # the bot will call this function with the latest data and if this\n",
    "    # returns true, our bot will place an order\n",
    "    def checkLongSignal(self, i=None):\n",
    "        \"\"\" \"\"\"\n",
    "        df = self.dataframe\n",
    "        if i == None:\n",
    "            i = len(df) - 1\n",
    "        if i < 1:\n",
    "            return False\n",
    "        if (\n",
    "            df[\"low\"][i - 1] < df[\"slow_ma\"][i - 1]\n",
    "            and df[\"low\"][i] > df[\"slow_ma\"][i]\n",
    "            and df[\"low\"][i] > df[\"fast_ma\"][i]\n",
    "            and df[\"fast_ma\"][i] > df[\"slow_ma\"][i]\n",
    "        ):\n",
    "            return True\n",
    "        return False\n",
    "\n",
    "    def checkShortSignal(self, i=None):\n",
    "        df = self.dataframe\n",
    "        if i == None:\n",
    "            i = len(df) - 1\n",
    "        if i < 1:\n",
    "            return False\n",
    "        if (\n",
    "            (\n",
    "                df[\"low\"][i - 1] > df[\"slow_ma\"][i - 1]\n",
    "                or df[\"fast_ma\"][i - 1] > df[\"slow_ma\"][i - 1]\n",
    "            )\n",
    "            and df[\"close\"][i] < df[\"slow_ma\"][i]\n",
    "            and df[\"close\"][i] < df[\"fast_ma\"][i]\n",
    "            and df[\"fast_ma\"][i] < df[\"slow_ma\"][i]\n",
    "        ):\n",
    "            return True\n",
    "        return False"
   ]
  },
  {
   "cell_type": "code",
   "execution_count": 139,
   "id": "d89670ca",
   "metadata": {},
   "outputs": [],
   "source": [
    "def calc_strat_loss(backtest_res) -> dict:\n",
    "    \"\"\"Given backtest results, calculate loss.\n",
    "    \n",
    "    Loss is a measure of how badly we're doing.\n",
    "    \"\"\"\n",
    "    score = 0\n",
    "    \n",
    "    for symbol, symbol_res in backtest_res.items():\n",
    "        symbol_bt_res = symbol_res['results']\n",
    "        profit_realised = symbol_bt_res['profit_realised']\n",
    "        profit_after_fees = symbol_bt_res['profit_after_fees']\n",
    "        winrate = symbol_bt_res['winrate']\n",
    "\n",
    "        if profit_after_fees < 0:\n",
    "            # lost money.\n",
    "            # bad.\n",
    "            score -= profit_after_fees + 1\n",
    "\n",
    "        if profit_after_fees == 0.0:\n",
    "            # well it's not great but not terrible...\n",
    "            pass\n",
    "\n",
    "        # how well we're doing (positive)\n",
    "        score += profit_after_fees# + winrate/100\n",
    "        \n",
    "    if score < 0:\n",
    "        # not doing so good\n",
    "        #print(\"score is bad\", -1*score)\n",
    "        return -1 * score\n",
    "\n",
    "    # return loss; lower number is better\n",
    "    #print(\"score=\",score,math.pow(0.9, score))\n",
    "    return math.pow(0.3, score)\n",
    "\n",
    "def params_to_bot_config(p):\n",
    "    params = {**p}\n",
    "    # strat params\n",
    "    fast_ma_len = p.pop('fast_ma_len')\n",
    "    slow_ma_len = p.pop('slow_ma_len')\n",
    "    bot_config = gen_config(\n",
    "        StratClass=EMACross, \n",
    "        params=dict(fast_ma_len=fast_ma_len, slow_ma_len=slow_ma_len),\n",
    "        **p\n",
    "    )\n",
    "    return bot_config\n",
    "\n",
    "ITERATION = 0\n",
    "def run_test(params):\n",
    "    bot_config = params_to_bot_config(params)\n",
    "    \n",
    "    global ITERATION\n",
    "    ITERATION += 1\n",
    "\n",
    "    try:\n",
    "        backtest_res = backtest(bot_config)\n",
    "    except Exception as ex:\n",
    "        if 'Not enough data' in str(ex) or 'TA_BAD_PARAM' in str(ex):\n",
    "            #print(\"Failed with\", bot_config, ex)\n",
    "            return dict(status=STATUS_FAIL, loss=1, iteration=ITERATION)\n",
    "        raise ex\n",
    "\n",
    "    loss = calc_strat_loss(backtest_res)\n",
    "    return dict(\n",
    "        iteration=ITERATION,\n",
    "        loss=loss,\n",
    "        status=STATUS_OK,\n",
    "        backtest_res=backtest_res,\n",
    "    )\n",
    "\n",
    "def opt_ema_strat(max_evals: int=10) -> Dict[str, float]:\n",
    "    \"\"\"Optimize EMA parameters\"\"\"\n",
    "    space = {\n",
    "        'fast_ma_len': hp.uniform('fast_ma_len', 3, 10),\n",
    "        'slow_ma_len': hp.uniform('slow_ma_len', 5, 40),\n",
    "        \n",
    "        # number between 0 and 100 - 1% means that when we get a buy signal, \n",
    "        # we place buy order 1% below current price. if 0, we place a market \n",
    "        # order immediately upon receiving signal\n",
    "        'signal_distance': hp.uniform('signal_distance', 0, 5),\n",
    "        \n",
    "        # take profit value between 0 and infinity, 3% means we place our sell \n",
    "        # orders 3% above the prices that our buy orders filled at\n",
    "        'take_profit': hp.uniform('take_profit', 0.5, 30),\n",
    "        \n",
    "        # stop loss value in percent - 10% means stop loss at 10% below our \n",
    "        # buy order's filled price\n",
    "        'stop_loss_value': hp.uniform('stop_loss_value', 2, 40),\n",
    "        \n",
    "        # between 0 and 100, the % of the starting_balance to put in an order\n",
    "        'initial_entry_allocation': hp.choice('initial_entry_allocation', range(10, 20)),\n",
    "    }\n",
    "    \n",
    "    tpe_trials = Trials()\n",
    "    \n",
    "    if PROFILING:\n",
    "        pr = cProfile.Profile()\n",
    "        pr.enable()\n",
    "        \n",
    "    # run optimizer\n",
    "    global ITERATION\n",
    "    ITERATION = 0\n",
    "    best = fmin(fn = run_test,\n",
    "                space = space,\n",
    "                algo = tpe.suggest, \n",
    "                trials = tpe_trials,\n",
    "                verbose = False,\n",
    "                show_progressbar = False,\n",
    "                max_evals = max_evals)\n",
    "    \n",
    "    if PROFILING:\n",
    "        pr.disable()\n",
    "        pr.dump_stats('profile')\n",
    "    \n",
    "    return (best, tpe_trials)"
   ]
  },
  {
   "cell_type": "code",
   "execution_count": 159,
   "id": "9e7c0846",
   "metadata": {},
   "outputs": [
    {
     "name": "stdout",
     "output_type": "stream",
     "text": [
      "Best:\n",
      "{'fast_ma_len': 9.259706706310398,\n",
      " 'initial_entry_allocation': 9,\n",
      " 'signal_distance': 4.167596696357992,\n",
      " 'slow_ma_len': 6.249223446558828,\n",
      " 'stop_loss_value': 31.69626875443707,\n",
      " 'take_profit': 3.9788089754577722}\n"
     ]
    }
   ],
   "source": [
    "# run hyperopt\n",
    "best, trials = opt_ema_strat(max_evals=3000)\n",
    "\n",
    "print(\"Best:\")\n",
    "pprint(best)\n",
    "best_config = params_to_bot_config(best)\n",
    "backtest_res = backtest(best_config)\n",
    "trial_results = trials.results"
   ]
  },
  {
   "cell_type": "code",
   "execution_count": 173,
   "id": "08b71467-98ea-4b1d-a478-94fa32c5f93f",
   "metadata": {
    "tags": []
   },
   "outputs": [
    {
     "name": "stdout",
     "output_type": "stream",
     "text": [
      "ETH/USD: Initial 100.0, profit: 0.975, return %100.975\n"
     ]
    },
    {
     "data": {
      "application/vnd.jupyter.widget-view+json": {
       "model_id": "fef898b1808e486b95f3fec4d53af6c5",
       "version_major": 2,
       "version_minor": 0
      },
      "text/plain": [
       "FigureWidget({\n",
       "    'data': [{'close': array([3312.6, 3311.3, 3313.2, ..., 3407.6, 3407.4, 3407.4]),\n",
       "          …"
      ]
     },
     "metadata": {},
     "output_type": "display_data"
    }
   ],
   "source": [
    "alloc = best_config['entry_settings']['initial_entry_allocation']\n",
    "entry_exit_marker_size = 15\n",
    "def fix_series_ts(initial_entry_allocation: float, series:list[tuple]):\n",
    "    ret = []\n",
    "    for e in series:\n",
    "        n = [*e]\n",
    "        n[0] = pd.to_datetime(n[0] * 10e5)\n",
    "        n[2] = entry_exit_marker_size\n",
    "        ret.append(n)\n",
    "    return ret\n",
    "\n",
    "# formatting and massaging results\n",
    "for symbol, symbol_res in backtest_res.items():\n",
    "    symbol_bt_res = symbol_res['results']\n",
    "    profit = symbol_bt_res['profit_after_fees']\n",
    "    initial = symbol_bt_res['balance_initial']\n",
    "    bal = symbol_bt_res['balance_plus_profits']\n",
    "    print(f\"{symbol}: Initial {initial}, profit: {profit:0.3}, return %{(bal/float(initial)*100):.6}\")\n",
    "    #pprint(symbol_bt_res)\n",
    "    df = symbol_res['df']\n",
    "    sym_results[symbol] = df\n",
    "    bt_res = [t.get('backtest_res', {}).get(symbol, {}) for t in trial_results]\n",
    "            \n",
    "    # trials w/ results\n",
    "    btdf = pd.DataFrame({\n",
    "        'loss': [min(x.get('loss',1), 1) for x in trial_results], \n",
    "        'iteration': [x['iteration'] for x in trial_results],\n",
    "        'winrate': [r['results']['winrate'] if 'results' in r else 0 for r in bt_res],\n",
    "        'profit': [max(0, profit / (r['results']['profit'] or 0.001)) if 'results' in r else 0 for r in bt_res],\n",
    "    })\n",
    "\n",
    "    # visualize backtesting\n",
    "    # date and time columns are broken\n",
    "    df2 = df.drop(columns=['date'])\n",
    "    df2['time'] = pd.to_datetime(df['time'] * 10e5)\n",
    "    # generate plotly figure\n",
    "    fig = plot_backtest_results(\n",
    "        symbol, \n",
    "        df2, \n",
    "        fix_series_ts(alloc, symbol_res['entries']), \n",
    "        fix_series_ts(alloc, symbol_res['exits'])\n",
    "    )\n",
    "\n",
    "# will render inline a nice visualization of buy/sell\n",
    "fig"
   ]
  },
  {
   "cell_type": "code",
   "execution_count": 174,
   "id": "6e3b9280-1ed4-4096-94b9-164ae819778f",
   "metadata": {},
   "outputs": [
    {
     "data": {
      "text/plain": [
       "<AxesSubplot:xlabel='iteration', ylabel='[loss]'>"
      ]
     },
     "execution_count": 174,
     "metadata": {},
     "output_type": "execute_result"
    },
    {
     "data": {
      "image/png": "[encoded data removed]",
      "text/plain": [
       "<Figure size 432x288 with 1 Axes>"
      ]
     },
     "metadata": {
      "needs_background": "light"
     },
     "output_type": "display_data"
    }
   ],
   "source": [
    "btdf['l'] = btdf['loss']\n",
    "btdf.plot.scatter('iteration', y=['loss'], logy=True)"
   ]
  },
  {
   "cell_type": "code",
   "execution_count": 37,
   "id": "e5ec6d1c-9ebc-4312-9bf0-779cf8bdc143",
   "metadata": {
    "tags": []
   },
   "outputs": [
    {
     "data": {
      "text/plain": [
       "<AxesSubplot:xlabel='time'>"
      ]
     },
     "execution_count": 37,
     "metadata": {},
     "output_type": "execute_result"
    },
    {
     "data": {
      "image/png": "[encoded data removed]",
      "text/plain": [
       "<Figure size 432x288 with 1 Axes>"
      ]
     },
     "metadata": {
      "needs_background": "light"
     },
     "output_type": "display_data"
    }
   ],
   "source": [
    "df2.drop(columns=['volume']).plot('time')"
   ]
  },
  {
   "cell_type": "code",
   "execution_count": 82,
   "id": "5c3296b9",
   "metadata": {},
   "outputs": [
    {
     "data": {
      "text/html": [
       "<div>\n",
       "<style scoped>\n",
       "    .dataframe tbody tr th:only-of-type {\n",
       "        vertical-align: middle;\n",
       "    }\n",
       "\n",
       "    .dataframe tbody tr th {\n",
       "        vertical-align: top;\n",
       "    }\n",
       "\n",
       "    .dataframe thead th {\n",
       "        text-align: right;\n",
       "    }\n",
       "</style>\n",
       "<table border=\"1\" class=\"dataframe\">\n",
       "  <thead>\n",
       "    <tr style=\"text-align: right;\">\n",
       "      <th></th>\n",
       "      <th>time</th>\n",
       "      <th>open</th>\n",
       "      <th>high</th>\n",
       "      <th>low</th>\n",
       "      <th>close</th>\n",
       "      <th>volume</th>\n",
       "      <th>slow_ma</th>\n",
       "      <th>fast_ma</th>\n",
       "    </tr>\n",
       "  </thead>\n",
       "  <tbody>\n",
       "    <tr>\n",
       "      <th>0</th>\n",
       "      <td>2021-09-10 15:16:00</td>\n",
       "      <td>3242.5</td>\n",
       "      <td>3250.6</td>\n",
       "      <td>3241.2</td>\n",
       "      <td>3250.6</td>\n",
       "      <td>4.782509e+05</td>\n",
       "      <td>NaN</td>\n",
       "      <td>NaN</td>\n",
       "    </tr>\n",
       "    <tr>\n",
       "      <th>1</th>\n",
       "      <td>2021-09-10 15:17:00</td>\n",
       "      <td>3250.6</td>\n",
       "      <td>3252.3</td>\n",
       "      <td>3244.7</td>\n",
       "      <td>3245.2</td>\n",
       "      <td>1.554127e+06</td>\n",
       "      <td>NaN</td>\n",
       "      <td>NaN</td>\n",
       "    </tr>\n",
       "    <tr>\n",
       "      <th>2</th>\n",
       "      <td>2021-09-10 15:18:00</td>\n",
       "      <td>3245.2</td>\n",
       "      <td>3249.6</td>\n",
       "      <td>3241.2</td>\n",
       "      <td>3249.5</td>\n",
       "      <td>5.728494e+05</td>\n",
       "      <td>NaN</td>\n",
       "      <td>NaN</td>\n",
       "    </tr>\n",
       "    <tr>\n",
       "      <th>3</th>\n",
       "      <td>2021-09-10 15:19:00</td>\n",
       "      <td>3249.5</td>\n",
       "      <td>3255.5</td>\n",
       "      <td>3248.6</td>\n",
       "      <td>3254.1</td>\n",
       "      <td>5.007561e+05</td>\n",
       "      <td>NaN</td>\n",
       "      <td>3249.850000</td>\n",
       "    </tr>\n",
       "    <tr>\n",
       "      <th>4</th>\n",
       "      <td>2021-09-10 15:20:00</td>\n",
       "      <td>3254.1</td>\n",
       "      <td>3255.4</td>\n",
       "      <td>3242.1</td>\n",
       "      <td>3245.6</td>\n",
       "      <td>7.165826e+05</td>\n",
       "      <td>NaN</td>\n",
       "      <td>3248.150000</td>\n",
       "    </tr>\n",
       "    <tr>\n",
       "      <th>...</th>\n",
       "      <td>...</td>\n",
       "      <td>...</td>\n",
       "      <td>...</td>\n",
       "      <td>...</td>\n",
       "      <td>...</td>\n",
       "      <td>...</td>\n",
       "      <td>...</td>\n",
       "      <td>...</td>\n",
       "    </tr>\n",
       "    <tr>\n",
       "      <th>2875</th>\n",
       "      <td>2021-09-12 15:11:00</td>\n",
       "      <td>3426.7</td>\n",
       "      <td>3427.3</td>\n",
       "      <td>3423.6</td>\n",
       "      <td>3424.3</td>\n",
       "      <td>2.810520e+05</td>\n",
       "      <td>3425.037855</td>\n",
       "      <td>3424.527104</td>\n",
       "    </tr>\n",
       "    <tr>\n",
       "      <th>2876</th>\n",
       "      <td>2021-09-12 15:12:00</td>\n",
       "      <td>3424.3</td>\n",
       "      <td>3424.3</td>\n",
       "      <td>3421.9</td>\n",
       "      <td>3422.6</td>\n",
       "      <td>1.653003e+05</td>\n",
       "      <td>3424.733124</td>\n",
       "      <td>3423.756262</td>\n",
       "    </tr>\n",
       "    <tr>\n",
       "      <th>2877</th>\n",
       "      <td>2021-09-12 15:13:00</td>\n",
       "      <td>3422.6</td>\n",
       "      <td>3423.9</td>\n",
       "      <td>3422.4</td>\n",
       "      <td>3422.4</td>\n",
       "      <td>2.763484e+05</td>\n",
       "      <td>3424.441483</td>\n",
       "      <td>3423.213757</td>\n",
       "    </tr>\n",
       "    <tr>\n",
       "      <th>2878</th>\n",
       "      <td>2021-09-12 15:14:00</td>\n",
       "      <td>3422.4</td>\n",
       "      <td>3423.8</td>\n",
       "      <td>3422.4</td>\n",
       "      <td>3423.7</td>\n",
       "      <td>1.441225e+05</td>\n",
       "      <td>3424.348798</td>\n",
       "      <td>3423.408254</td>\n",
       "    </tr>\n",
       "    <tr>\n",
       "      <th>2879</th>\n",
       "      <td>2021-09-12 15:15:00</td>\n",
       "      <td>3423.9</td>\n",
       "      <td>3424.5</td>\n",
       "      <td>3422.7</td>\n",
       "      <td>3424.2</td>\n",
       "      <td>4.231712e+04</td>\n",
       "      <td>3424.330198</td>\n",
       "      <td>3423.724953</td>\n",
       "    </tr>\n",
       "  </tbody>\n",
       "</table>\n",
       "<p>2880 rows × 8 columns</p>\n",
       "</div>"
      ],
      "text/plain": [
       "                    time    open    high     low   close        volume  \\\n",
       "0    2021-09-10 15:16:00  3242.5  3250.6  3241.2  3250.6  4.782509e+05   \n",
       "1    2021-09-10 15:17:00  3250.6  3252.3  3244.7  3245.2  1.554127e+06   \n",
       "2    2021-09-10 15:18:00  3245.2  3249.6  3241.2  3249.5  5.728494e+05   \n",
       "3    2021-09-10 15:19:00  3249.5  3255.5  3248.6  3254.1  5.007561e+05   \n",
       "4    2021-09-10 15:20:00  3254.1  3255.4  3242.1  3245.6  7.165826e+05   \n",
       "...                  ...     ...     ...     ...     ...           ...   \n",
       "2875 2021-09-12 15:11:00  3426.7  3427.3  3423.6  3424.3  2.810520e+05   \n",
       "2876 2021-09-12 15:12:00  3424.3  3424.3  3421.9  3422.6  1.653003e+05   \n",
       "2877 2021-09-12 15:13:00  3422.6  3423.9  3422.4  3422.4  2.763484e+05   \n",
       "2878 2021-09-12 15:14:00  3422.4  3423.8  3422.4  3423.7  1.441225e+05   \n",
       "2879 2021-09-12 15:15:00  3423.9  3424.5  3422.7  3424.2  4.231712e+04   \n",
       "\n",
       "          slow_ma      fast_ma  \n",
       "0             NaN          NaN  \n",
       "1             NaN          NaN  \n",
       "2             NaN          NaN  \n",
       "3             NaN  3249.850000  \n",
       "4             NaN  3248.150000  \n",
       "...           ...          ...  \n",
       "2875  3425.037855  3424.527104  \n",
       "2876  3424.733124  3423.756262  \n",
       "2877  3424.441483  3423.213757  \n",
       "2878  3424.348798  3423.408254  \n",
       "2879  3424.330198  3423.724953  \n",
       "\n",
       "[2880 rows x 8 columns]"
      ]
     },
     "execution_count": 82,
     "metadata": {},
     "output_type": "execute_result"
    }
   ],
   "source": [
    "df2"
   ]
  },
  {
   "cell_type": "code",
   "execution_count": 135,
   "id": "ee2f993b-d625-49a7-b4d2-243b854ddd67",
   "metadata": {},
   "outputs": [],
   "source": [
    "seq = np.linspace(0.001, 3, 2000)"
   ]
  },
  {
   "cell_type": "code",
   "execution_count": 140,
   "id": "458b7f13-c2c3-4aaf-84b9-091bde2e306b",
   "metadata": {},
   "outputs": [
    {
     "data": {
      "text/plain": [
       "<AxesSubplot:>"
      ]
     },
     "execution_count": 140,
     "metadata": {},
     "output_type": "execute_result"
    },
    {
     "data": {
      "image/png": "[encoded data removed]",
      "text/plain": [
       "<Figure size 432x288 with 1 Axes>"
      ]
     },
     "metadata": {
      "needs_background": "light"
     },
     "output_type": "display_data"
    }
   ],
   "source": [
    "pd.DataFrame({'a': np.array([math.pow(0.3, x) for x in seq]),\n",
    "            'b': np.array(seq)},\n",
    "            ).plot()\n"
   ]
  },
  {
   "cell_type": "code",
   "execution_count": 130,
   "id": "043aab3e",
   "metadata": {},
   "outputs": [
    {
     "data": {
      "text/plain": [
       "1.0"
      ]
     },
     "execution_count": 130,
     "metadata": {},
     "output_type": "execute_result"
    }
   ],
   "source": [
    "math.pow(0.9, 0)"
   ]
  },
  {
   "cell_type": "code",
   "execution_count": null,
   "id": "a7e90517",
   "metadata": {},
   "outputs": [],
   "source": []
  }
 ],
 "metadata": {
  "kernelspec": {
   "display_name": "Python 3 (ipykernel)",
   "language": "python",
   "name": "python3"
  },
  "language_info": {
   "codemirror_mode": {
    "name": "ipython",
    "version": 3
   },
   "file_extension": ".py",
   "mimetype": "text/x-python",
   "name": "python",
   "nbconvert_exporter": "python",
   "pygments_lexer": "ipython3",
   "version": "3.9.7"
  }
 },
 "nbformat": 4,
 "nbformat_minor": 5
}
