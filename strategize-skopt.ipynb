{
 "cells": [
  {
   "cell_type": "markdown",
   "id": "937f4914-3ed8-47be-a5c2-fc02444d8a23",
   "metadata": {
    "tags": []
   },
   "source": [
    "### Dependencies\n",
    "This assumes you have `pandas`, `numpy`, `jupyterlab`, `plotly`, `scikit-optimize`, and `pandas-ta` available in your system or virtual environment. \n",
    "You also need `ta-lib`, on macOS you can get it with `brew install ta-lib`"
   ]
  },
  {
   "cell_type": "markdown",
   "id": "beb99880-a7e6-4679-81d9-7df57e650716",
   "metadata": {},
   "source": [
    "### Configuration\n",
    "Create a file called `.env` with:\n",
    "```env\n",
    "EXCHG_API_KEY=d019f019ca0918c0ac80\n",
    "EXCHG_SECRET=ba19ca9310de910\n",
    "```"
   ]
  },
  {
   "cell_type": "code",
   "execution_count": 30,
   "id": "9037fdbc",
   "metadata": {},
   "outputs": [
    {
     "name": "stdout",
     "output_type": "stream",
     "text": [
      "\u001b[31mERROR: Could not find a version that satisfies the requirement sciki (from versions: none)\u001b[0m\n",
      "\u001b[31mERROR: No matching distribution found for sciki\u001b[0m\n",
      "\u001b[33mWARNING: You are using pip version 21.2.3; however, version 21.3 is available.\n",
      "You should consider upgrading via the '/Users/cyber/Library/Caches/pypoetry/virtualenvs/trader-s5F4ixgX-py3.9/bin/python -m pip install --upgrade pip' command.\u001b[0m\n",
      "Collecting git+https://github.com/revmischa/pyjuque@patch-1\n",
      "  Cloning https://github.com/revmischa/pyjuque (to revision patch-1) to /private/var/folders/kd/1xqhjdy16c31k9ffswc8wbm40000gn/T/pip-req-build-ft6fqcpd\n",
      "  Running command git clone -q https://github.com/revmischa/pyjuque /private/var/folders/kd/1xqhjdy16c31k9ffswc8wbm40000gn/T/pip-req-build-ft6fqcpd\n",
      "^C\n",
      "\u001b[31mERROR: Operation cancelled by user\u001b[0m\n",
      "\u001b[33mWARNING: You are using pip version 21.2.3; however, version 21.3 is available.\n",
      "You should consider upgrading via the '/Users/cyber/Library/Caches/pypoetry/virtualenvs/trader-s5F4ixgX-py3.9/bin/python -m pip install --upgrade pip' command.\u001b[0m\n"
     ]
    }
   ],
   "source": [
    "import sys\n",
    "# install dependencies\n",
    "!{sys.executable} -m pip install -q matplotlib ipywidgets plotly pyjuque"
   ]
  },
  {
   "cell_type": "code",
   "execution_count": 34,
   "id": "5dd4be9c",
   "metadata": {
    "tags": []
   },
   "outputs": [],
   "source": [
    "import time\n",
    "import os\n",
    "from pprint import pprint\n",
    "import logging\n",
    "import cProfile\n",
    "from typing import Dict\n",
    "import datetime\n",
    "import math\n",
    "from IPython.display import HTML\n",
    "from copy import deepcopy\n",
    "from dotenv import load_dotenv\n",
    "import concurrent.futures as fut\n",
    "from queue import Queue\n",
    "\n",
    "import numpy as np\n",
    "import pandas as pd\n",
    "import pandas_ta as ta\n",
    "import skopt.plots as skplots\n",
    "import sklearn.dummy\n",
    "from skopt.plots import plot_evaluations\n",
    "from skopt import gp_minimize, forest_minimize, dummy_minimize, BayesSearchCV\n",
    "from skopt.space import Real, Integer\n",
    "from skopt.utils import use_named_args\n",
    "from skopt import Optimizer, load\n",
    "from skopt import callbacks\n",
    "from skopt.callbacks import CheckpointSaver\n",
    "from joblib import Parallel, delayed\n",
    "import matplotlib.pyplot as plt\n",
    "import plotly\n",
    "\n",
    "from pyjuque.Bot import defineBot\n",
    "from pyjuque.Plotting import PlotData, GetPlotData\n",
    "from pyjuque.Exchanges.CcxtExchange import CcxtExchange\n",
    "from pyjuque.Engine.BacktesterSundayTheQuant import Backtester\n",
    "from pyjuque.Strategies import StrategyTemplate\n",
    "\n",
    "%matplotlib inline\n",
    "#%%capture stored_output\n",
    "\n",
    "# connect to your exchange\n",
    "exchange = CcxtExchange(\"ftx\")"
   ]
  },
  {
   "cell_type": "code",
   "execution_count": 35,
   "id": "5d63c97b",
   "metadata": {},
   "outputs": [],
   "source": [
    "timeframe = '15s'  # 1 minute timeframe\n",
    "starting_balance = 1000. # dollars\n",
    "symbol = 'ETH-PERP'\n",
    "\n",
    "# configure your exchange here via .env file\n",
    "load_dotenv()\n",
    "api_key = os.environ[\"EXCHG_API_KEY\"]\n",
    "secret = os.environ[\"EXCHG_SECRET\"]\n",
    "exchange_config = {\n",
    "    \"exchange\": {\n",
    "        \"name\": \"ftx\",\n",
    "        \"params\": {\n",
    "            \"api_key\": api_key,\n",
    "            \"secret\": secret,\n",
    "        },\n",
    "    },\n",
    "}\n",
    "\n",
    "def gen_config(\n",
    "    StratClass,\n",
    "    signal_distance,\n",
    "    take_profit,\n",
    "    stop_loss_value,\n",
    "    params: Dict[str, float],\n",
    "    test_run=True,\n",
    ") -> dict:\n",
    "    if not params:\n",
    "        params = {}\n",
    "    return {\n",
    "        \"name\": \"simulator\",\n",
    "        \"test_run\": test_run,\n",
    "        **exchange_config,\n",
    "        \"symbols\": [ symbol ],\n",
    "        \"starting_balance\": starting_balance,\n",
    "        \"strategy\": {\"class\": StratClass, \"params\": params},\n",
    "        \"timeframe\": timeframe,\n",
    "        \"entry_settings\": {\n",
    "            \"initial_entry_allocation\": 5,\n",
    "            \"signal_distance\": signal_distance,  # pct under buy signal to place order\n",
    "            \"leverage\": 1,\n",
    "        },\n",
    "        \"exit_settings\": {\n",
    "            \"take_profit\": take_profit,\n",
    "            \"stop_loss_value\": stop_loss_value,\n",
    "            \"exit_on_signal\": True,\n",
    "            \"sell_on_end\": True,\n",
    "        },\n",
    "    }\n"
   ]
  },
  {
   "cell_type": "code",
   "execution_count": 36,
   "id": "39823939",
   "metadata": {},
   "outputs": [],
   "source": [
    "# how many units of timeframe (15s) to test back in time\n",
    "backtest_times = 4 * 60 * 24 * 60#days\n",
    "#backtest_times = 4 * 60 * 12#hours\n",
    "\n",
    "# utilities\n",
    "symbol_df_cache: Dict[str, pd.DataFrame] = {\n",
    "    symbol: exchange.getOHLCV(symbol, timeframe, backtest_times)\n",
    "}\n",
    "\n",
    "\n",
    "def backtest(bot_config: dict) -> Backtester:\n",
    "    bt = Backtester(bot_config)\n",
    "    results = {}\n",
    "    for symbol in bot_config[\"symbols\"]:\n",
    "        # fetch historical exchange data (OHLCV) for symbol\n",
    "        # backtesting will be performed on this dataset\n",
    "        if not symbol in symbol_df_cache:\n",
    "            # TODO: fetch several pages\n",
    "            symbol_df_cache[symbol] = exchange.getOHLCV(symbol, bot_config['timeframe'], backtest_times)\n",
    "        df = symbol_df_cache[symbol]\n",
    "\n",
    "        # backtest\n",
    "        bt.backtest(df)\n",
    "        results[symbol] = dict(results=bt.return_results(), entries=bt.entries, exits=bt.exits, df=df)\n",
    "        \n",
    "    return results\n",
    "\n",
    "def plot_backtest_results(title, df, entries, exits):\n",
    "    return PlotData(df, \n",
    "        plot_indicators=[\n",
    "            dict(name = 'slow_ma', title = 'Slow HMA'),\n",
    "            dict(name = 'fast_ma', title = 'Fast HMA'),\n",
    "        ],\n",
    "        signals=[\n",
    "            dict(name = 'Buy', points = entries), \n",
    "            dict(name = 'Sell', points = exits),\n",
    "        ], \n",
    "        add_volume=False,\n",
    "        plot_title=title,\n",
    "    )"
   ]
  },
  {
   "cell_type": "code",
   "execution_count": 37,
   "id": "310f1f24",
   "metadata": {},
   "outputs": [],
   "source": [
    "# strategy to run\n",
    "class EMACross(StrategyTemplate):\n",
    "    \"\"\"Bollinger Bands x RSI\"\"\"\n",
    "\n",
    "    minimum_period: int\n",
    "\n",
    "    def __init__(self, fast_ma_len=5, slow_ma_len=15):\n",
    "        self.fast_ma_len = fast_ma_len\n",
    "        self.slow_ma_len = slow_ma_len\n",
    "        # the minimum number of candles needed to compute our indicators\n",
    "        self.minimum_period = max(60, slow_ma_len)\n",
    "\n",
    "    # the bot will call this function with the latest data from the exchange\n",
    "    # passed through df; this function computes all the indicators needed\n",
    "    # for the signal\n",
    "    def setUp(self, df):\n",
    "        df[\"slow_ma\"] = ta.ema(df[\"close\"], self.slow_ma_len)\n",
    "        df[\"fast_ma\"] = ta.ema(df[\"close\"], self.fast_ma_len)\n",
    "        self.dataframe = df\n",
    "\n",
    "    # the bot will call this function with the latest data and if this\n",
    "    # returns true, our bot will place an order\n",
    "    def checkLongSignal(self, i=None):\n",
    "        \"\"\" \"\"\"\n",
    "        df = self.dataframe\n",
    "        if i == None:\n",
    "            i = len(df) - 1\n",
    "        if i < 1:\n",
    "            return False\n",
    "        if (\n",
    "            df[\"low\"][i - 1] < df[\"slow_ma\"][i - 1]\n",
    "            and df[\"low\"][i] > df[\"slow_ma\"][i]\n",
    "            and df[\"low\"][i] > df[\"fast_ma\"][i]\n",
    "            and df[\"fast_ma\"][i] > df[\"slow_ma\"][i]\n",
    "        ):\n",
    "            return True\n",
    "        return False\n",
    "\n",
    "    def checkShortSignal(self, i=None):\n",
    "        df = self.dataframe\n",
    "        if i == None:\n",
    "            i = len(df) - 1\n",
    "        if i < 1:\n",
    "            return False\n",
    "        if (\n",
    "            (\n",
    "                df[\"low\"][i - 1] > df[\"slow_ma\"][i - 1]\n",
    "                or df[\"fast_ma\"][i - 1] > df[\"slow_ma\"][i - 1]\n",
    "            )\n",
    "            and df[\"close\"][i] < df[\"slow_ma\"][i]\n",
    "            and df[\"close\"][i] < df[\"fast_ma\"][i]\n",
    "            and df[\"fast_ma\"][i] < df[\"slow_ma\"][i]\n",
    "        ):\n",
    "            return True\n",
    "        return False"
   ]
  },
  {
   "cell_type": "code",
   "execution_count": 147,
   "id": "8b48af11-fb34-4a2c-b54c-922a37bd4d95",
   "metadata": {},
   "outputs": [],
   "source": [
    "# search space\n",
    "fast_ma_len = Integer(name='fast_ma_len', low=1.0, high=12.0)\n",
    "slow_ma_len = Integer(name='slow_ma_len', low=12.0, high=40.0)\n",
    "# number between 0 and 100 - 1% means that when we get a buy signal, \n",
    "# we place buy order 1% below current price. if 0, we place a market \n",
    "# order immediately upon receiving signal\n",
    "signal_distance = Real(name='signal_distance', low=0.0, high=1.5)\n",
    "# take profit value between 0 and infinity, 3% means we place our sell \n",
    "# orders 3% above the prices that our buy orders filled at\n",
    "take_profit = Real(name='take_profit', low=0.01, high=0.9)\n",
    "stop_loss_value = Real(name='stop_loss_value', low=0.01, high=4.0)\n",
    "#dimensions = [fast_ma_len, slow_ma_len, signal_distance, take_profit, stop_loss_value]\n",
    "dimensions = [take_profit, stop_loss_value]\n",
    "\n",
    "def calc_strat_loss(backtest_res) -> float:\n",
    "    \"\"\"Given backtest results, calculate loss.\n",
    "    \n",
    "    Loss is a measure of how badly we're doing.\n",
    "    \"\"\"\n",
    "    score = 0\n",
    "    \n",
    "    for symbol, symbol_res in backtest_res.items():\n",
    "        symbol_bt_res = symbol_res['results']\n",
    "        profit_realised = symbol_bt_res['profit_realised']\n",
    "        profit_after_fees = symbol_bt_res['profit_after_fees']\n",
    "        winrate = symbol_bt_res['winrate']\n",
    "\n",
    "        if profit_after_fees <= 0:\n",
    "            # failed to make money.\n",
    "            # bad.\n",
    "            return 1\n",
    "\n",
    "        # how well we're doing (positive)\n",
    "        score += profit_after_fees * winrate\n",
    "        \n",
    "    if score <= 0:\n",
    "        # not doing so good\n",
    "        return 1\n",
    "\n",
    "    # return loss; lower number is better\n",
    "    return math.pow(0.99, score)\n",
    "\n",
    "def params_to_bot_config(p):\n",
    "    params = {**p}\n",
    "    # strat params\n",
    "    fast_ma_len = params.pop('fast_ma_len', 7)\n",
    "    slow_ma_len = params.pop('slow_ma_len', 15)\n",
    "    if not 'signal_distance' in params:\n",
    "        params['signal_distance'] = 0\n",
    "    bot_config = gen_config(\n",
    "        StratClass=EMACross, \n",
    "        params=dict(fast_ma_len=fast_ma_len, slow_ma_len=slow_ma_len),\n",
    "        **params\n",
    "    )\n",
    "    return bot_config"
   ]
  },
  {
   "cell_type": "code",
   "execution_count": 148,
   "id": "0b147729-2604-443f-a368-6ec8453e083f",
   "metadata": {},
   "outputs": [],
   "source": [
    "@use_named_args(dimensions=dimensions)\n",
    "def objective(**params):\n",
    "    \"\"\"This is our fitness function.\n",
    "    \n",
    "    It takes a set of parameters and returns the \"loss\" - an objective single scalar to minimize.\n",
    "    \"\"\"\n",
    "    profile = False\n",
    "    \n",
    "    if profile:\n",
    "        pr = cProfile.Profile()\n",
    "        pr.enable()\n",
    "\n",
    "    bot_config = params_to_bot_config(params)\n",
    "    \n",
    "    try:\n",
    "        backtest_res = backtest(bot_config)\n",
    "    except Exception as ex:\n",
    "        print(ex)\n",
    "        if 'Not enough data' in str(ex) or 'TA_BAD_PARAM' in str(ex):\n",
    "            return 1  # bad input\n",
    "        raise ex\n",
    "    finally:\n",
    "        if profile:\n",
    "            pr.disable()\n",
    "            pr.dump_stats('objective')\n",
    "\n",
    "    return calc_strat_loss(backtest_res)"
   ]
  },
  {
   "cell_type": "markdown",
   "id": "7c84f2a3-5a1d-46b6-9ded-ee735276cc45",
   "metadata": {},
   "source": [
    "# Optimizer runner\n",
    "\n",
    "This is a somewhat custom wrapper around the scikit-optimize `Optimizer` interface that is able to save and restore checkpoints. Since running the optimizer can take hours or days, it helps to be able to interrupt it at times and continue where you left off. \n",
    "\n",
    "Also it is designed to be as parallel as possible."
   ]
  },
  {
   "cell_type": "code",
   "execution_count": 149,
   "id": "0d342065-9859-4618-9b91-098481136d08",
   "metadata": {},
   "outputs": [],
   "source": [
    "# unused - simple and boring way of calling an optimizer\n",
    "def opt_strat_sk(n_calls) -> Dict[str, float]:\n",
    "    start_time = time.time()\n",
    "    opt_res = forest_minimize(func=objective,\n",
    "                          dimensions=dimensions,\n",
    "                          n_calls=n_calls, base_estimator=\"ET\",\n",
    "                          random_state=None)\n",
    "    elapsed = time.time() - start_time\n",
    "    print(f\"{n_calls} calls, elapsed={elapsed:0.2f}s, rate={n_calls/elapsed:0.1f} calls/s\")\n",
    "    return opt_res\n",
    "\n",
    "# starting point for optimizer\n",
    "x0 = None\n",
    "y0 = None\n",
    "version = 15\n",
    "checkpoint_file = f'checkpoint-v{version}.pkl'\n",
    "checkpoint_saver = CheckpointSaver(checkpoint_file, compress=7) # keyword arguments will be passed to `skopt.dump`\n",
    "\n",
    "#acq_func = \"EI\"\n",
    "#base_estimator = \"RF\"\n",
    "\n",
    "def create_optimizer():\n",
    "    # try to load checkpoint\n",
    "    global x0\n",
    "    global y0\n",
    "    res = None\n",
    "    try:\n",
    "        res = load(checkpoint_file)\n",
    "        if res:\n",
    "            x0 = res.x_iters\n",
    "            y0 = list(res.func_vals)\n",
    "            print(f\"Loaded {len(x0)} iterations\")\n",
    "    except FileNotFoundError as fe:\n",
    "        pass\n",
    "    \n",
    "    opt_opts = dict()\n",
    "    if x0 and len(x0):\n",
    "        opt_opts['n_initial_points'] = len(x0) \n",
    "\n",
    "    optimizer = Optimizer(\n",
    "        dimensions=dimensions,\n",
    "        random_state=None,  # random seed\n",
    "        n_jobs=-1,  # number of cores\n",
    "        **opt_opts,\n",
    "        #acq_func=acq_func,\n",
    "        #base_estimator=base_estimator,\n",
    "        #base_estimator=sklearn.dummy.DummyRegressor()\n",
    "    )\n",
    "    if x0 is not None and y0 is not None and len(y0):\n",
    "        optimizer.tell(x0, y0)\n",
    "    return optimizer\n",
    "\n",
    "optimizer = create_optimizer()\n",
    "\n",
    "PROFILING = False\n",
    "ask_timers = []\n",
    "obj_timers = []\n",
    "def opt_strat_sk_parallel(n_calls:int):\n",
    "    start_time = time.time()\n",
    "    if PROFILING:\n",
    "        pr = cProfile.Profile()\n",
    "        pr.enable()\n",
    "\n",
    "    parallel = 8\n",
    "    done = False\n",
    "    start = len(x0) if x0 else 0\n",
    "    print(f\"Start: {start}\")\n",
    "    pq = Queue(100)  # points to check         \n",
    "    \n",
    "    # start asking for points to test in a separate thread\n",
    "    # this is usually the bottleneck so it should be running the whole time\n",
    "    def get_points():\n",
    "        while not done:\n",
    "            ask_start = time.time()\n",
    "            points = optimizer.ask(n_points=4) # get next points to test - very slow\n",
    "            elapsed = time.time() - ask_start\n",
    "            ask_timers.append(elapsed)\n",
    "            pq.put(points)\n",
    "                          \n",
    "    exc = fut.ThreadPoolExecutor(1)\n",
    "    points_future = exc.submit(get_points)\n",
    "    \n",
    "    opt_res = None\n",
    "    i = start\n",
    "    while i < n_calls:\n",
    "        x = pq.get()  # get points to test from queue  \n",
    "        point_count = len(x)\n",
    "        if i % 5 == 0 and i != 0 and i != start:\n",
    "            print(f\"{i}...\")\n",
    "            \n",
    "        # backtest\n",
    "        obj_start = time.time()\n",
    "        y = Parallel(n_jobs=point_count)(delayed(objective)(v) for v in x)  # evaluate points in parallel\n",
    "        \n",
    "        # record time\n",
    "        for _ in range(point_count):\n",
    "            obj_timers.append(time.time() - obj_start)\n",
    "            \n",
    "        opt_res = optimizer.tell(x, y)\n",
    "        \n",
    "        i += point_count\n",
    "        \n",
    "        # checkpoint\n",
    "        try:\n",
    "            checkpoint_saver(opt_res)\n",
    "        except KeyboardInterrupt as ki:\n",
    "            print(\"Re-saving...\")\n",
    "            checkpoint_saver(opt_res)\n",
    "            done = True\n",
    "        if done:\n",
    "            break\n",
    "        \n",
    "    done = True\n",
    "    points_future.cancel()\n",
    "    exc.shutdown(wait=False)\n",
    "\n",
    "    if PROFILING:\n",
    "        pr.disable()\n",
    "        pr.dump_stats('profile')\n",
    "    elapsed = time.time() - start_time\n",
    "    print(f\"{n_calls} calls, elapsed={elapsed:0.2f}s, rate={(n_calls-start)/elapsed:0.1f} calls/s\")"
   ]
  },
  {
   "cell_type": "code",
   "execution_count": 150,
   "id": "de619513-a1d0-4118-9675-0e7e96b0ffdd",
   "metadata": {},
   "outputs": [],
   "source": [
    "def get_best_result(opt=None):\n",
    "    min_loss = 1.0\n",
    "    best_params = None\n",
    "    if not opt:\n",
    "        opt = optimizer #create_optimizer()\n",
    "    for i, x in enumerate(opt.Xi):\n",
    "        loss = opt.yi[i]\n",
    "        if loss < min_loss:\n",
    "            min_loss = loss\n",
    "            best_params = x\n",
    "    print(\"Best:\", min_loss)\n",
    "    best_config = dict(zip([d.name for d in dimensions], best_params))\n",
    "    print(best_config)\n",
    "    best_opt_result = opt.get_result() #opt.tell(best_params, min_loss)\n",
    "    return (best_params, best_config, best_opt_result)"
   ]
  },
  {
   "cell_type": "code",
   "execution_count": 151,
   "id": "4d0a677c-e0f0-4b51-88d2-758750fba018",
   "metadata": {
    "tags": []
   },
   "outputs": [
    {
     "name": "stdout",
     "output_type": "stream",
     "text": [
      "Start: 0\n",
      "20...\n",
      "40...\n",
      "60...\n",
      "80...\n",
      "100...\n",
      "120...\n",
      "140...\n",
      "160...\n",
      "180...\n",
      "200...\n",
      "220...\n",
      "240...\n",
      "260...\n",
      "280...\n",
      "300...\n",
      "320...\n",
      "340...\n",
      "360...\n",
      "380...\n",
      "400...\n",
      "420...\n",
      "440...\n",
      "460...\n",
      "480...\n",
      "500...\n",
      "520...\n",
      "540...\n",
      "560...\n",
      "580...\n",
      "600...\n",
      "620...\n",
      "640...\n",
      "660...\n",
      "680...\n",
      "700...\n",
      "720...\n",
      "740...\n",
      "760...\n",
      "780...\n",
      "800 calls, elapsed=4302.87s, rate=0.2 calls/s\n"
     ]
    }
   ],
   "source": [
    "opt_strat_sk_parallel(n_calls=800)"
   ]
  },
  {
   "cell_type": "code",
   "execution_count": 152,
   "id": "136f8f01-9b80-486e-9d67-1a1ef59d6a9a",
   "metadata": {},
   "outputs": [
    {
     "name": "stdout",
     "output_type": "stream",
     "text": [
      "Best: 0.995568772739961\n",
      "{'take_profit': 0.4287459925403989, 'stop_loss_value': 0.13221831166947703}\n"
     ]
    }
   ],
   "source": [
    "best_params, best_config, best_opt_result = get_best_result(optimizer)"
   ]
  },
  {
   "cell_type": "code",
   "execution_count": 153,
   "id": "7638233b-21e8-4efc-a79a-7e55fd6d4454",
   "metadata": {},
   "outputs": [],
   "source": [
    "best_config = params_to_bot_config(best_config)\n",
    "bt_res = backtest(best_config)"
   ]
  },
  {
   "cell_type": "code",
   "execution_count": 154,
   "id": "08b71467-98ea-4b1d-a478-94fa32c5f93f",
   "metadata": {
    "tags": []
   },
   "outputs": [
    {
     "name": "stdout",
     "output_type": "stream",
     "text": [
      "{'balance_free': 1000.0,\n",
      " 'balance_initial': 1000.0,\n",
      " 'balance_locked': 0.0,\n",
      " 'balance_plus_profits': 1002.0070053217291,\n",
      " 'n_locked_trades': 0,\n",
      " 'n_long': 174,\n",
      " 'n_losing_trades': 85,\n",
      " 'n_profitable_trades': 24,\n",
      " 'n_shorts': 0,\n",
      " 'n_trades': 283,\n",
      " 'profit': 2.0070053217291495,\n",
      " 'profit_after_fees': 2.0068860553019925,\n",
      " 'profit_buy_and_hold': 28.730045579245143,\n",
      " 'profit_realised': 2.0070053217291495,\n",
      " 'profit_unrealised': 0.0,\n",
      " 'winrate': 0.22018348623853212}\n",
      "ETH-PERP: Initial 1000.0, profit: 2.01, return %100.201\n"
     ]
    },
    {
     "data": {
      "application/vnd.jupyter.widget-view+json": {
       "model_id": "7453926a69af468e8080ef58d8d325c3",
       "version_major": 2,
       "version_minor": 0
      },
      "text/plain": [
       "FigureWidget({\n",
       "    'data': [{'close': array([4629.3, 4630.8, 4631. , ..., 4765.5, 4763. , 4762.3]),\n",
       "          …"
      ]
     },
     "metadata": {},
     "output_type": "display_data"
    }
   ],
   "source": [
    "alloc = best_config['entry_settings']['initial_entry_allocation']\n",
    "entry_exit_marker_size = 15\n",
    "def fix_series_ts(initial_entry_allocation: float, series:list[tuple]):\n",
    "    ret = []\n",
    "    for e in series:\n",
    "        n = [*e]\n",
    "        n[0] = pd.to_datetime(n[0] * 10e5)\n",
    "        n[2] = entry_exit_marker_size\n",
    "        ret.append(n)\n",
    "    return ret\n",
    "\n",
    "# formatting and massaging results\n",
    "symbol_bt_res = bt_res[symbol]\n",
    "res = symbol_bt_res['results']\n",
    "pprint(res)\n",
    "profit = res['profit_after_fees']\n",
    "initial = res['balance_initial']\n",
    "bal = res['balance_plus_profits']\n",
    "print(f\"{symbol}: Initial {initial}, profit: {profit:0.3}, return %{(bal/float(initial)*100):.6}\")\n",
    "df = symbol_bt_res['df']\n",
    "\n",
    "# visualize trades made during backtesting\n",
    "# date and time columns are broken\n",
    "df2 = df.drop(columns=['date'])\n",
    "df2['time'] = pd.to_datetime(df['time'] * 10e5)\n",
    "# generate plotly figure\n",
    "fig = plot_backtest_results(\n",
    "    symbol, \n",
    "    df2, \n",
    "    fix_series_ts(alloc, symbol_bt_res['entries']), \n",
    "    fix_series_ts(alloc, symbol_bt_res['exits'])\n",
    ")\n",
    "\n",
    "# will render inline a nice visualization of buy/sell events on a candlestick chart\n",
    "fig"
   ]
  },
  {
   "cell_type": "code",
   "execution_count": 155,
   "id": "6e3b9280-1ed4-4096-94b9-164ae819778f",
   "metadata": {},
   "outputs": [
    {
     "data": {
      "image/png": "[encoded data removed]",
      "text/plain": [
       "<Figure size 1800x432 with 1 Axes>"
      ]
     },
     "metadata": {
      "needs_background": "light"
     },
     "output_type": "display_data"
    }
   ],
   "source": [
    "# trials w/ results\n",
    "btdf = pd.DataFrame({\n",
    "    'loss': optimizer.yi, \n",
    "    'iteration': range(len(optimizer.yi)),\n",
    "})\n",
    "btdf['l'] = btdf['loss']\n",
    "fig = btdf.plot.scatter('iteration', y=['loss'], logy=False, figsize=(25,6))"
   ]
  },
  {
   "cell_type": "code",
   "execution_count": 156,
   "id": "454f6870-c697-462d-aa52-01911f565783",
   "metadata": {},
   "outputs": [
    {
     "data": {
      "text/plain": [
       "800"
      ]
     },
     "execution_count": 156,
     "metadata": {},
     "output_type": "execute_result"
    }
   ],
   "source": [
    "len(optimizer.yi)"
   ]
  },
  {
   "cell_type": "code",
   "execution_count": 157,
   "id": "e6925cc5-4c76-4816-a1ed-bca8baddbff2",
   "metadata": {},
   "outputs": [
    {
     "ename": "TypeError",
     "evalue": "list indices must be integers or slices, not NoneType",
     "output_type": "error",
     "traceback": [
      "\u001b[0;31m---------------------------------------------------------------------------\u001b[0m",
      "\u001b[0;31mTypeError\u001b[0m                                 Traceback (most recent call last)",
      "\u001b[0;32m/var/folders/kd/1xqhjdy16c31k9ffswc8wbm40000gn/T/ipykernel_58051/3947088559.py\u001b[0m in \u001b[0;36m<module>\u001b[0;34m\u001b[0m\n\u001b[0;32m----> 1\u001b[0;31m \u001b[0mskplots\u001b[0m\u001b[0;34m.\u001b[0m\u001b[0mplot_objective_2D\u001b[0m\u001b[0;34m(\u001b[0m\u001b[0mbest_opt_result\u001b[0m\u001b[0;34m,\u001b[0m \u001b[0mdimension_identifier1\u001b[0m\u001b[0;34m=\u001b[0m\u001b[0;34m'signal_distance'\u001b[0m\u001b[0;34m,\u001b[0m \u001b[0mdimension_identifier2\u001b[0m\u001b[0;34m=\u001b[0m\u001b[0;34m'take_profit'\u001b[0m\u001b[0;34m)\u001b[0m\u001b[0;34m\u001b[0m\u001b[0;34m\u001b[0m\u001b[0m\n\u001b[0m",
      "\u001b[0;32m~/Library/Caches/pypoetry/virtualenvs/trader-s5F4ixgX-py3.9/lib/python3.9/site-packages/skopt/plots.py\u001b[0m in \u001b[0;36mplot_objective_2D\u001b[0;34m(result, dimension_identifier1, dimension_identifier2, n_points, n_samples, levels, zscale, sample_source, minimum, n_minimum_search, ax)\u001b[0m\n\u001b[1;32m   1136\u001b[0m     \u001b[0;31m# Estimate the objective function for these sampled points\u001b[0m\u001b[0;34m\u001b[0m\u001b[0;34m\u001b[0m\u001b[0m\n\u001b[1;32m   1137\u001b[0m     \u001b[0;31m# using the last fitted model for the search-space.\u001b[0m\u001b[0;34m\u001b[0m\u001b[0;34m\u001b[0m\u001b[0m\n\u001b[0;32m-> 1138\u001b[0;31m     xi, yi, zi = partial_dependence_2D(space, last_model, index2, index1,\n\u001b[0m\u001b[1;32m   1139\u001b[0m                                        samples, n_points=n_points)\n\u001b[1;32m   1140\u001b[0m \u001b[0;34m\u001b[0m\u001b[0m\n",
      "\u001b[0;32m~/Library/Caches/pypoetry/virtualenvs/trader-s5F4ixgX-py3.9/lib/python3.9/site-packages/skopt/plots.py\u001b[0m in \u001b[0;36mpartial_dependence_2D\u001b[0;34m(space, model, i, j, samples, n_points)\u001b[0m\n\u001b[1;32m   1045\u001b[0m         \u001b[0;32mreturn\u001b[0m \u001b[0mnp\u001b[0m\u001b[0;34m.\u001b[0m\u001b[0mmean\u001b[0m\u001b[0;34m(\u001b[0m\u001b[0mmodel\u001b[0m\u001b[0;34m.\u001b[0m\u001b[0mpredict\u001b[0m\u001b[0;34m(\u001b[0m\u001b[0mrvs_\u001b[0m\u001b[0;34m)\u001b[0m\u001b[0;34m)\u001b[0m\u001b[0;34m\u001b[0m\u001b[0;34m\u001b[0m\u001b[0m\n\u001b[1;32m   1046\u001b[0m \u001b[0;34m\u001b[0m\u001b[0m\n\u001b[0;32m-> 1047\u001b[0;31m     \u001b[0mxi\u001b[0m\u001b[0;34m,\u001b[0m \u001b[0mxi_transformed\u001b[0m \u001b[0;34m=\u001b[0m \u001b[0m_evenly_sample\u001b[0m\u001b[0;34m(\u001b[0m\u001b[0mspace\u001b[0m\u001b[0;34m.\u001b[0m\u001b[0mdimensions\u001b[0m\u001b[0;34m[\u001b[0m\u001b[0mj\u001b[0m\u001b[0;34m]\u001b[0m\u001b[0;34m,\u001b[0m \u001b[0mn_points\u001b[0m\u001b[0;34m)\u001b[0m\u001b[0;34m\u001b[0m\u001b[0;34m\u001b[0m\u001b[0m\n\u001b[0m\u001b[1;32m   1048\u001b[0m     \u001b[0myi\u001b[0m\u001b[0;34m,\u001b[0m \u001b[0myi_transformed\u001b[0m \u001b[0;34m=\u001b[0m \u001b[0m_evenly_sample\u001b[0m\u001b[0;34m(\u001b[0m\u001b[0mspace\u001b[0m\u001b[0;34m.\u001b[0m\u001b[0mdimensions\u001b[0m\u001b[0;34m[\u001b[0m\u001b[0mi\u001b[0m\u001b[0;34m]\u001b[0m\u001b[0;34m,\u001b[0m \u001b[0mn_points\u001b[0m\u001b[0;34m)\u001b[0m\u001b[0;34m\u001b[0m\u001b[0;34m\u001b[0m\u001b[0m\n\u001b[1;32m   1049\u001b[0m     \u001b[0;31m# Calculate the partial dependence for all combinations of these points.\u001b[0m\u001b[0;34m\u001b[0m\u001b[0;34m\u001b[0m\u001b[0m\n",
      "\u001b[0;31mTypeError\u001b[0m: list indices must be integers or slices, not NoneType"
     ]
    }
   ],
   "source": [
    "skplots.plot_objective_2D(best_opt_result, dimension_identifier1='signal_distance', dimension_identifier2='take_profit')"
   ]
  },
  {
   "cell_type": "code",
   "execution_count": 161,
   "id": "db2c3d86-6754-48db-8b99-b8b5d9d7e6de",
   "metadata": {},
   "outputs": [
    {
     "ename": "TypeError",
     "evalue": "list indices must be integers or slices, not NoneType",
     "output_type": "error",
     "traceback": [
      "\u001b[0;31m---------------------------------------------------------------------------\u001b[0m",
      "\u001b[0;31mTypeError\u001b[0m                                 Traceback (most recent call last)",
      "\u001b[0;32m/var/folders/kd/1xqhjdy16c31k9ffswc8wbm40000gn/T/ipykernel_58051/965983590.py\u001b[0m in \u001b[0;36m<module>\u001b[0;34m\u001b[0m\n\u001b[0;32m----> 1\u001b[0;31m \u001b[0mskplots\u001b[0m\u001b[0;34m.\u001b[0m\u001b[0mplot_objective_2D\u001b[0m\u001b[0;34m(\u001b[0m\u001b[0mbest_opt_result\u001b[0m\u001b[0;34m,\u001b[0m \u001b[0mdimension_identifier1\u001b[0m\u001b[0;34m=\u001b[0m\u001b[0;34m'signal_distance'\u001b[0m\u001b[0;34m,\u001b[0m \u001b[0mdimension_identifier2\u001b[0m\u001b[0;34m=\u001b[0m\u001b[0;34m'stop_loss_value'\u001b[0m\u001b[0;34m)\u001b[0m\u001b[0;34m\u001b[0m\u001b[0;34m\u001b[0m\u001b[0m\n\u001b[0m",
      "\u001b[0;32m~/Library/Caches/pypoetry/virtualenvs/trader-s5F4ixgX-py3.9/lib/python3.9/site-packages/skopt/plots.py\u001b[0m in \u001b[0;36mplot_objective_2D\u001b[0;34m(result, dimension_identifier1, dimension_identifier2, n_points, n_samples, levels, zscale, sample_source, minimum, n_minimum_search, ax)\u001b[0m\n\u001b[1;32m   1136\u001b[0m     \u001b[0;31m# Estimate the objective function for these sampled points\u001b[0m\u001b[0;34m\u001b[0m\u001b[0;34m\u001b[0m\u001b[0m\n\u001b[1;32m   1137\u001b[0m     \u001b[0;31m# using the last fitted model for the search-space.\u001b[0m\u001b[0;34m\u001b[0m\u001b[0;34m\u001b[0m\u001b[0m\n\u001b[0;32m-> 1138\u001b[0;31m     xi, yi, zi = partial_dependence_2D(space, last_model, index2, index1,\n\u001b[0m\u001b[1;32m   1139\u001b[0m                                        samples, n_points=n_points)\n\u001b[1;32m   1140\u001b[0m \u001b[0;34m\u001b[0m\u001b[0m\n",
      "\u001b[0;32m~/Library/Caches/pypoetry/virtualenvs/trader-s5F4ixgX-py3.9/lib/python3.9/site-packages/skopt/plots.py\u001b[0m in \u001b[0;36mpartial_dependence_2D\u001b[0;34m(space, model, i, j, samples, n_points)\u001b[0m\n\u001b[1;32m   1045\u001b[0m         \u001b[0;32mreturn\u001b[0m \u001b[0mnp\u001b[0m\u001b[0;34m.\u001b[0m\u001b[0mmean\u001b[0m\u001b[0;34m(\u001b[0m\u001b[0mmodel\u001b[0m\u001b[0;34m.\u001b[0m\u001b[0mpredict\u001b[0m\u001b[0;34m(\u001b[0m\u001b[0mrvs_\u001b[0m\u001b[0;34m)\u001b[0m\u001b[0;34m)\u001b[0m\u001b[0;34m\u001b[0m\u001b[0;34m\u001b[0m\u001b[0m\n\u001b[1;32m   1046\u001b[0m \u001b[0;34m\u001b[0m\u001b[0m\n\u001b[0;32m-> 1047\u001b[0;31m     \u001b[0mxi\u001b[0m\u001b[0;34m,\u001b[0m \u001b[0mxi_transformed\u001b[0m \u001b[0;34m=\u001b[0m \u001b[0m_evenly_sample\u001b[0m\u001b[0;34m(\u001b[0m\u001b[0mspace\u001b[0m\u001b[0;34m.\u001b[0m\u001b[0mdimensions\u001b[0m\u001b[0;34m[\u001b[0m\u001b[0mj\u001b[0m\u001b[0;34m]\u001b[0m\u001b[0;34m,\u001b[0m \u001b[0mn_points\u001b[0m\u001b[0;34m)\u001b[0m\u001b[0;34m\u001b[0m\u001b[0;34m\u001b[0m\u001b[0m\n\u001b[0m\u001b[1;32m   1048\u001b[0m     \u001b[0myi\u001b[0m\u001b[0;34m,\u001b[0m \u001b[0myi_transformed\u001b[0m \u001b[0;34m=\u001b[0m \u001b[0m_evenly_sample\u001b[0m\u001b[0;34m(\u001b[0m\u001b[0mspace\u001b[0m\u001b[0;34m.\u001b[0m\u001b[0mdimensions\u001b[0m\u001b[0;34m[\u001b[0m\u001b[0mi\u001b[0m\u001b[0;34m]\u001b[0m\u001b[0;34m,\u001b[0m \u001b[0mn_points\u001b[0m\u001b[0;34m)\u001b[0m\u001b[0;34m\u001b[0m\u001b[0;34m\u001b[0m\u001b[0m\n\u001b[1;32m   1049\u001b[0m     \u001b[0;31m# Calculate the partial dependence for all combinations of these points.\u001b[0m\u001b[0;34m\u001b[0m\u001b[0;34m\u001b[0m\u001b[0m\n",
      "\u001b[0;31mTypeError\u001b[0m: list indices must be integers or slices, not NoneType"
     ]
    }
   ],
   "source": [
    "skplots.plot_objective_2D(best_opt_result, dimension_identifier1='signal_distance', dimension_identifier2='stop_loss_value')"
   ]
  },
  {
   "cell_type": "code",
   "execution_count": 162,
   "id": "0c629e2b-ded4-47ae-ab0b-c5242435d498",
   "metadata": {},
   "outputs": [
    {
     "data": {
      "text/plain": [
       "<AxesSubplot:xlabel='stop_loss_value', ylabel='take_profit'>"
      ]
     },
     "execution_count": 162,
     "metadata": {},
     "output_type": "execute_result"
    },
    {
     "data": {
      "image/png": "[encoded data removed]",
      "text/plain": [
       "<Figure size 432x288 with 1 Axes>"
      ]
     },
     "metadata": {
      "needs_background": "light"
     },
     "output_type": "display_data"
    }
   ],
   "source": [
    "skplots.plot_objective_2D(best_opt_result, dimension_identifier1='stop_loss_value', dimension_identifier2='take_profit')"
   ]
  },
  {
   "cell_type": "code",
   "execution_count": null,
   "id": "9d43b32e-e9a2-4606-872a-811c1302f0ed",
   "metadata": {},
   "outputs": [],
   "source": [
    "_ = skplots.plot_evaluations(best_opt_result)"
   ]
  },
  {
   "cell_type": "code",
   "execution_count": 158,
   "id": "41637414-32f1-4a41-9b2c-89ad37d689cc",
   "metadata": {},
   "outputs": [],
   "source": [
    "obj_timing_df = pd.DataFrame({'objective': obj_timers})\n",
    "ask_timing_df = pd.DataFrame({'ask': ask_timers})"
   ]
  },
  {
   "cell_type": "code",
   "execution_count": 159,
   "id": "66eebf5a-9ca3-4951-9b49-286ac88a2b6b",
   "metadata": {},
   "outputs": [
    {
     "data": {
      "text/plain": [
       "<AxesSubplot:>"
      ]
     },
     "execution_count": 159,
     "metadata": {},
     "output_type": "execute_result"
    },
    {
     "data": {
      "image/png": "[encoded data removed]",
      "text/plain": [
       "<Figure size 432x288 with 1 Axes>"
      ]
     },
     "metadata": {
      "needs_background": "light"
     },
     "output_type": "display_data"
    }
   ],
   "source": [
    "obj_timing_df.plot()"
   ]
  },
  {
   "cell_type": "code",
   "execution_count": 160,
   "id": "93e590ba-8af5-419b-ab7d-30b28048e18e",
   "metadata": {},
   "outputs": [
    {
     "data": {
      "text/plain": [
       "<AxesSubplot:>"
      ]
     },
     "execution_count": 160,
     "metadata": {},
     "output_type": "execute_result"
    },
    {
     "data": {
      "image/png": "[encoded data removed]",
      "text/plain": [
       "<Figure size 432x288 with 1 Axes>"
      ]
     },
     "metadata": {
      "needs_background": "light"
     },
     "output_type": "display_data"
    }
   ],
   "source": [
    "ask_timing_df.plot()"
   ]
  },
  {
   "cell_type": "code",
   "execution_count": 146,
   "id": "f39fa2d6-b229-4e15-b0cd-44d6d26ec005",
   "metadata": {},
   "outputs": [
    {
     "data": {
      "image/png": "[encoded data removed]",
      "text/plain": [
       "<Figure size 432x288 with 1 Axes>"
      ]
     },
     "metadata": {
      "needs_background": "light"
     },
     "output_type": "display_data"
    }
   ],
   "source": [
    "x = np.linspace(0,10,1000)\n",
    "\n",
    "fig, ax = plt.subplots()\n",
    "ax.plot(x, np.power(0.99, x))\n",
    "plt.show()"
   ]
  },
  {
   "cell_type": "code",
   "execution_count": null,
   "id": "0008ab6e-773b-4e05-9780-0d431b464a98",
   "metadata": {},
   "outputs": [],
   "source": []
  },
  {
   "cell_type": "code",
   "execution_count": null,
   "id": "1c857489-d646-4183-98d8-c2a8d7e2cb4e",
   "metadata": {},
   "outputs": [],
   "source": []
  },
  {
   "cell_type": "code",
   "execution_count": null,
   "id": "6dfe7210-34d3-46ba-928d-a30cb50a027d",
   "metadata": {},
   "outputs": [],
   "source": []
  },
  {
   "cell_type": "code",
   "execution_count": null,
   "id": "fe275cce-9fb0-4fc3-9339-ef00fd3753e5",
   "metadata": {},
   "outputs": [],
   "source": []
  },
  {
   "cell_type": "code",
   "execution_count": null,
   "id": "eb7e2315-5018-4a01-9cdf-97523d7bd4f6",
   "metadata": {},
   "outputs": [],
   "source": []
  },
  {
   "cell_type": "code",
   "execution_count": null,
   "id": "55bd5083-703c-4a2b-8503-3f41fd594ea4",
   "metadata": {},
   "outputs": [],
   "source": []
  },
  {
   "cell_type": "code",
   "execution_count": null,
   "id": "0bef0342-3be0-45ac-ac99-0884b1ad6997",
   "metadata": {},
   "outputs": [],
   "source": []
  }
 ],
 "metadata": {
  "kernelspec": {
   "display_name": "Python 3 (ipykernel)",
   "language": "python",
   "name": "python3"
  },
  "language_info": {
   "codemirror_mode": {
    "name": "ipython",
    "version": 3
   },
   "file_extension": ".py",
   "mimetype": "text/x-python",
   "name": "python",
   "nbconvert_exporter": "python",
   "pygments_lexer": "ipython3",
   "version": "3.9.7"
  }
 },
 "nbformat": 4,
 "nbformat_minor": 5
}
